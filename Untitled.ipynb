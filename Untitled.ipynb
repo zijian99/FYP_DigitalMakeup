{
 "cells": [
  {
   "cell_type": "code",
   "execution_count": 2,
   "id": "fecf5bcf",
   "metadata": {},
   "outputs": [],
   "source": [
    "f = open('requirement.txt', 'r')"
   ]
  },
  {
   "cell_type": "code",
   "execution_count": 3,
   "id": "ec02d264",
   "metadata": {},
   "outputs": [],
   "source": [
    "file_contents = f.read()"
   ]
  },
  {
   "cell_type": "code",
   "execution_count": 5,
   "id": "aee55c17",
   "metadata": {},
   "outputs": [
    {
     "name": "stdout",
     "output_type": "stream",
     "text": [
      "\n",
      "Note: you may need to restart the kernel to use updated packages.\n"
     ]
    }
   ],
   "source": [
    "conda activate cuda_env"
   ]
  },
  {
   "cell_type": "code",
   "execution_count": null,
   "id": "a38acaf8",
   "metadata": {},
   "outputs": [],
   "source": []
  }
 ],
 "metadata": {
  "kernelspec": {
   "display_name": "Python 3 (ipykernel)",
   "language": "python",
   "name": "python3"
  },
  "language_info": {
   "codemirror_mode": {
    "name": "ipython",
    "version": 3
   },
   "file_extension": ".py",
   "mimetype": "text/x-python",
   "name": "python",
   "nbconvert_exporter": "python",
   "pygments_lexer": "ipython3",
   "version": "3.9.13"
  }
 },
 "nbformat": 4,
 "nbformat_minor": 5
}
